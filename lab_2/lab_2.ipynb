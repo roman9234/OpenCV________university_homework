{
 "cells": [
  {
   "metadata": {
    "ExecuteTime": {
     "end_time": "2025-03-12T08:02:57.643829Z",
     "start_time": "2025-03-12T08:02:56.617118Z"
    }
   },
   "cell_type": "code",
   "source": [
    "import numpy as np\n",
    "import cv2 as cv\n",
    "import matplotlib.pyplot as plt\n",
    "\n",
    "# Время выполнеия операции в секундах\n",
    "e1 = cv.getTickCount()\n",
    "# your code execution\n",
    "e2 = cv.getTickCount()\n",
    "time = (e2 - e1)/ cv.getTickFrequency()\n",
    "\n",
    "# Пример:\n",
    "img1 = cv.imread('messi5.jpg')\n",
    "assert img1 is not None, \"file could not be read, check with os.path.exists()\"\n",
    "e1 = cv.getTickCount()\n",
    "for i in range(5,49,2):\n",
    "    img1 = cv.medianBlur(img1,i)\n",
    "e2 = cv.getTickCount()\n",
    "t = (e2 - e1)/cv.getTickFrequency()\n",
    "print( t )"
   ],
   "id": "dd2153966a28e698",
   "outputs": [
    {
     "name": "stdout",
     "output_type": "stream",
     "text": [
      "0.2513333\n"
     ]
    }
   ],
   "execution_count": 2
  },
  {
   "metadata": {
    "ExecuteTime": {
     "end_time": "2025-03-12T08:06:42.812387Z",
     "start_time": "2025-03-12T08:06:22.805305Z"
    }
   },
   "cell_type": "code",
   "source": [
    "# check if optimization is enabled\n",
    "cv.setUseOptimized(True)\n",
    "print(cv.useOptimized())\n",
    "%timeit res = cv.medianBlur(img1,49)\n",
    "# Disable it\n",
    "cv.setUseOptimized(False)\n",
    "print(cv.useOptimized())\n",
    "%timeit res = cv.medianBlur(img1,49)"
   ],
   "id": "b137e2b8a049fb50",
   "outputs": [
    {
     "name": "stdout",
     "output_type": "stream",
     "text": [
      "True\n",
      "11.6 ms ± 42.2 μs per loop (mean ± std. dev. of 7 runs, 100 loops each)\n",
      "False\n",
      "13 ms ± 87.3 μs per loop (mean ± std. dev. of 7 runs, 100 loops each)\n"
     ]
    }
   ],
   "execution_count": 7
  },
  {
   "metadata": {
    "ExecuteTime": {
     "end_time": "2025-03-12T08:10:54.586178Z",
     "start_time": "2025-03-12T08:10:41.697277Z"
    }
   },
   "cell_type": "code",
   "source": [
    "# timeit позволяет сравнить производительность двух одинаковых операций\n",
    "# x*x быстрее чем операция с массивом numpy, состоящим из одного элемента\n",
    "\n",
    "x = 5\n",
    "%timeit y=x**2\n",
    "# 10000000 loops, best of 3: 73 ns per loop\n",
    "%timeit y=x*x\n",
    "# 10000000 loops, best of 3: 58.3 ns per loop\n",
    "z = np.uint8([5])\n",
    "%timeit y=z*z\n",
    "# 1000000 loops, best of 3: 1.25 us per loop\n",
    "%timeit y=np.square(z)\n",
    "# 1000000 loops, best of 3: 1.16 us per loop\n"
   ],
   "id": "f05edace16121518",
   "outputs": [
    {
     "name": "stdout",
     "output_type": "stream",
     "text": [
      "35 ns ± 0.127 ns per loop (mean ± std. dev. of 7 runs, 10,000,000 loops each)\n",
      "24.8 ns ± 0.175 ns per loop (mean ± std. dev. of 7 runs, 10,000,000 loops each)\n",
      "505 ns ± 1.06 ns per loop (mean ± std. dev. of 7 runs, 1,000,000 loops each)\n",
      "485 ns ± 1.05 ns per loop (mean ± std. dev. of 7 runs, 1,000,000 loops each)\n"
     ]
    }
   ],
   "execution_count": 10
  },
  {
   "metadata": {
    "ExecuteTime": {
     "end_time": "2025-03-12T08:20:11.304399Z",
     "start_time": "2025-03-12T08:19:55.910419Z"
    }
   },
   "cell_type": "code",
   "source": [
    "# Загрузим изображение\n",
    "img1 = cv.imread('messi5.jpg')\n",
    "# Чтобы не было ошибки, преобразуем изображение в градаццию серого\n",
    "gray_img1 = cv.cvtColor(img1, cv.COLOR_BGR2GRAY)\n",
    "\n",
    "\n",
    "# Сравним две операции на одном и том же изображении\n",
    "%timeit z = cv.countNonZero(gray_img1)\n",
    "# 100000 loops, best of 3: 15.8 us per loop\n",
    "%timeit z = np.count_nonzero(gray_img1)\n",
    "# 1000 loops, best of 3: 370 us per loop\n"
   ],
   "id": "7898c44138a19470",
   "outputs": [
    {
     "name": "stdout",
     "output_type": "stream",
     "text": [
      "7.57 μs ± 627 ns per loop (mean ± std. dev. of 7 runs, 100,000 loops each)\n",
      "11.4 μs ± 16.3 ns per loop (mean ± std. dev. of 7 runs, 100,000 loops each)\n"
     ]
    }
   ],
   "execution_count": 23
  },
  {
   "metadata": {},
   "cell_type": "markdown",
   "source": [
    "### Capture Video from Camera\n",
    " Let's capture a video from the camera (I am using the built-in webcam on my laptop), convert it into grayscale video and display it. Just a simple task to get started."
   ],
   "id": "45c3ddf4af2116f5"
  },
  {
   "metadata": {
    "ExecuteTime": {
     "end_time": "2025-03-12T08:28:29.024803Z",
     "start_time": "2025-03-12T08:28:11.982808Z"
    }
   },
   "cell_type": "code",
   "source": [
    "import numpy as np\n",
    "import cv2 as cv\n",
    "\n",
    "# To capture a video, you need to create a VideoCapture object. Its argument can be either the device index or the name of a video file\n",
    "cap = cv.VideoCapture(0)\n",
    "if not cap.isOpened():\n",
    "    print(\"Cannot open camera\")\n",
    "    exit()\n",
    "while True:\n",
    "    # Capture frame-by-frame\n",
    "    ret, frame = cap.read()\n",
    "\n",
    "    # if frame is read correctly ret is True\n",
    "    if not ret:\n",
    "        print(\"Can't receive frame (stream end?). Exiting ...\")\n",
    "        break\n",
    "    # Our operations on the frame come here\n",
    "    gray = cv.cvtColor(frame, cv.COLOR_BGR2GRAY)\n",
    "    # Display the resulting frame\n",
    "    cv.imshow('frame', gray)\n",
    "    if cv.waitKey(1) == ord('q'):\n",
    "        break\n",
    "\n",
    "# When everything done, release the capture\n",
    "cap.release()\n",
    "cv.destroyAllWindows()"
   ],
   "id": "4cb769b3c94f825a",
   "outputs": [],
   "execution_count": 8
  },
  {
   "metadata": {},
   "cell_type": "markdown",
   "source": [
    "### Playing Video from file\n",
    "Playing video from file is the same as capturing it from camera, just change the camera index to a video file name.\n",
    "\n",
    "Also while displaying the frame, use appropriate time for cv.waitKey()"
   ],
   "id": "d9297775f59a2e60"
  },
  {
   "metadata": {
    "ExecuteTime": {
     "end_time": "2025-03-12T08:32:30.642159Z",
     "start_time": "2025-03-12T08:32:28.167239Z"
    }
   },
   "cell_type": "code",
   "source": [
    "import numpy as np\n",
    "import cv2 as cv\n",
    "\n",
    "# cap = cv.VideoCapture('vtest.avi')\n",
    "cap = cv.VideoCapture('output.avi')\n",
    "\n",
    "while cap.isOpened():\n",
    "    ret, frame = cap.read()\n",
    "\n",
    "    # if frame is read correctly ret is True\n",
    "    if not ret:\n",
    "        print(\"Can't receive frame (stream end?). Exiting ...\")\n",
    "        break\n",
    "    gray = cv.cvtColor(frame, cv.COLOR_BGR2GRAY)\n",
    "\n",
    "    cv.imshow('frame', gray)\n",
    "    # Меняя число можно изменять скорость видео\n",
    "    if cv.waitKey(25) == ord('q'):\n",
    "        break\n",
    "\n",
    "cap.release()\n",
    "cv.destroyAllWindows()"
   ],
   "id": "981882aa2aac08cd",
   "outputs": [
    {
     "name": "stdout",
     "output_type": "stream",
     "text": [
      "Can't receive frame (stream end?). Exiting ...\n"
     ]
    }
   ],
   "execution_count": 12
  },
  {
   "metadata": {},
   "cell_type": "markdown",
   "source": [
    "### Saving a Video\n",
    " For images, it is very simple: just use cv.imwrite(). Here, a little more work is required.\n",
    "\n",
    "This time we create a VideoWriter object. We should specify the output file name (eg: output.avi). Then we should specify the FourCC code (details in next paragraph). Then number of frames per second (fps) and frame size should be passed. And the last one is the isColor flag. If it is True, the encoder expect color frame, otherwise it works with grayscale frame."
   ],
   "id": "4fa878fed561a7de"
  },
  {
   "metadata": {
    "ExecuteTime": {
     "end_time": "2025-03-12T08:32:25.195813Z",
     "start_time": "2025-03-12T08:32:14.435553Z"
    }
   },
   "cell_type": "code",
   "source": [
    "import numpy as np\n",
    "import cv2 as cv\n",
    "\n",
    "cap = cv.VideoCapture(0)\n",
    "\n",
    "# Define the codec and create VideoWriter object\n",
    "fourcc = cv.VideoWriter_fourcc(*'DIVX')\n",
    "out = cv.VideoWriter('output.avi', fourcc, 20.0, (640,  480))\n",
    "\n",
    "while cap.isOpened():\n",
    "    ret, frame = cap.read()\n",
    "    if not ret:\n",
    "        print(\"Can't receive frame (stream end?). Exiting ...\")\n",
    "        break\n",
    "    frame = cv.flip(frame, 0)\n",
    "\n",
    "    # write the flipped frame\n",
    "    out.write(frame)\n",
    "\n",
    "    cv.imshow('frame', frame)\n",
    "    if cv.waitKey(1) == ord('q'):\n",
    "        break\n",
    "\n",
    "# Release everything if job is finished\n",
    "cap.release()\n",
    "out.release()\n",
    "cv.destroyAllWindows()"
   ],
   "id": "918d6d04939d21e8",
   "outputs": [],
   "execution_count": 11
  }
 ],
 "metadata": {
  "kernelspec": {
   "name": "python3",
   "language": "python",
   "display_name": "Python 3 (ipykernel)"
  }
 },
 "nbformat": 5,
 "nbformat_minor": 9
}
