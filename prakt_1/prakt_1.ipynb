{
 "cells": [
  {
   "metadata": {},
   "cell_type": "markdown",
   "source": "### Захват видео с камеры",
   "id": "1c3a75c3181b11e0"
  },
  {
   "metadata": {
    "jupyter": {
     "is_executing": true
    }
   },
   "cell_type": "code",
   "source": [
    "!git clone https://github.com/Shiaoming/Python-VO.git\n",
    "!cd Python-VO\n",
    "!pip install -r requirements.txt\n",
    "\n",
    "\n"
   ],
   "id": "b137d2517ed91afa",
   "outputs": [],
   "execution_count": null
  },
  {
   "metadata": {},
   "cell_type": "code",
   "outputs": [],
   "execution_count": null,
   "source": [
    "import numpy as np\n",
    "import cv2 as cv\n",
    "import matplotlib.pyplot as plt\n",
    "from pyslam.visual_odometry import VisualOdometry  # Пример из pyslam"
   ],
   "id": "c12302c906a005c9"
  },
  {
   "cell_type": "code",
   "id": "initial_id",
   "metadata": {
    "collapsed": true,
    "ExecuteTime": {
     "end_time": "2025-03-26T11:14:57.799559Z",
     "start_time": "2025-03-26T11:14:37.230052Z"
    }
   },
   "source": [
    "# Начало записи\n",
    "cap = cv.VideoCapture(0)\n",
    "if not cap.isOpened():\n",
    "    print(\"Cannot open camera\")\n",
    "    exit()\n",
    "while True:\n",
    "    # Получаем каждый кадр\n",
    "    ret, frame = cap.read()\n",
    "\n",
    "    # Если кадр прочтём правильно, ret - True\n",
    "    if not ret:\n",
    "        print(\"Can't receive frame (stream end?). Exiting ...\")\n",
    "        break\n",
    "\n",
    "    # Можно сделать изображение чёрно-белым\n",
    "    # frame = cv.cvtColor(frame, cv.COLOR_BGR2GRAY)\n",
    "\n",
    "    # Отображение\n",
    "    cv.imshow('frame', frame)\n",
    "    if cv.waitKey(1) == ord('q'):\n",
    "        break\n",
    "\n",
    "# Когда всё готово, завершаем съёмку\n",
    "cap.release()\n",
    "cv.destroyAllWindows()"
   ],
   "outputs": [],
   "execution_count": 4
  }
 ],
 "metadata": {
  "kernelspec": {
   "display_name": "Python 3",
   "language": "python",
   "name": "python3"
  },
  "language_info": {
   "codemirror_mode": {
    "name": "ipython",
    "version": 2
   },
   "file_extension": ".py",
   "mimetype": "text/x-python",
   "name": "python",
   "nbconvert_exporter": "python",
   "pygments_lexer": "ipython2",
   "version": "2.7.6"
  }
 },
 "nbformat": 4,
 "nbformat_minor": 5
}
